{
  "nbformat": 4,
  "nbformat_minor": 0,
  "metadata": {
    "colab": {
      "name": "CNN_Simple_Demo.ipynb",
      "provenance": [],
      "collapsed_sections": [],
      "mount_file_id": "1u7q60A2-ATi6qAvpd2mDsqEh_Dubngvz",
      "authorship_tag": "ABX9TyMV/3tNhREFV3lKFlBKEnDE",
      "include_colab_link": true
    },
    "kernelspec": {
      "name": "python3",
      "display_name": "Python 3"
    },
    "language_info": {
      "name": "python"
    }
  },
  "cells": [
    {
      "cell_type": "markdown",
      "metadata": {
        "id": "view-in-github",
        "colab_type": "text"
      },
      "source": [
        "<a href=\"https://colab.research.google.com/github/Shamsh-ms/data_science/blob/main/CNN_Simple_Demo.ipynb\" target=\"_parent\"><img src=\"https://colab.research.google.com/assets/colab-badge.svg\" alt=\"Open In Colab\"/></a>"
      ]
    },
    {
      "cell_type": "code",
      "metadata": {
        "id": "zyKSQGdi6Il5"
      },
      "source": [
        "import numpy as np\n",
        "import tensorflow as tf\n",
        "import matplotlib.pyplot as plt\n"
      ],
      "execution_count": 1,
      "outputs": []
    },
    {
      "cell_type": "code",
      "metadata": {
        "colab": {
          "base_uri": "https://localhost:8080/"
        },
        "id": "aKnQkCAV7XOw",
        "outputId": "a2a72366-df47-4da9-ad56-85d268ad4a29"
      },
      "source": [
        "(X_train,y_train),(X_test,y_test) = tf.keras.datasets.mnist.load_data()\n",
        "print(X_train.shape,y_train.shape)"
      ],
      "execution_count": 2,
      "outputs": [
        {
          "output_type": "stream",
          "text": [
            "Downloading data from https://storage.googleapis.com/tensorflow/tf-keras-datasets/mnist.npz\n",
            "11493376/11490434 [==============================] - 0s 0us/step\n",
            "(60000, 28, 28) (60000,)\n"
          ],
          "name": "stdout"
        }
      ]
    },
    {
      "cell_type": "markdown",
      "metadata": {
        "id": "uo4r-JfaHHBP"
      },
      "source": [
        "Preprocessing the input shape because the input should be of shape=(samples,height,length,channels) \n",
        "Channel = 1 for black and white images\n",
        "Chennel = 3 (RGB) for coloured images"
      ]
    },
    {
      "cell_type": "code",
      "metadata": {
        "colab": {
          "base_uri": "https://localhost:8080/"
        },
        "id": "9bTo5R-28WdN",
        "outputId": "22b51f08-9abd-4042-a38d-01bf22eb68ec"
      },
      "source": [
        "X_train = X_train.reshape(X_train.shape[0],28,28,1)\n",
        "train_images = X_train.astype('float32')/255\n",
        "X_test = X_test.reshape(X_test.shape[0],28,28,1)\n",
        "test_images = X_test.astype('float32')/255\n",
        "print(train_images.shape,test_images.shape)"
      ],
      "execution_count": 3,
      "outputs": [
        {
          "output_type": "stream",
          "text": [
            "(60000, 28, 28, 1) (10000, 28, 28, 1)\n"
          ],
          "name": "stdout"
        }
      ]
    },
    {
      "cell_type": "code",
      "metadata": {
        "colab": {
          "base_uri": "https://localhost:8080/"
        },
        "id": "D9rWE00b9n1S",
        "outputId": "5d953fae-1afc-4f9c-b7c7-2e04433fea8d"
      },
      "source": [
        "print(y_train[10])"
      ],
      "execution_count": 7,
      "outputs": [
        {
          "output_type": "stream",
          "text": [
            "3\n"
          ],
          "name": "stdout"
        }
      ]
    },
    {
      "cell_type": "code",
      "metadata": {
        "colab": {
          "base_uri": "https://localhost:8080/"
        },
        "id": "EOJztwxB9uVB",
        "outputId": "5d692f68-afd7-4799-cece-1da9acc5188b"
      },
      "source": [
        "train_labels = tf.keras.utils.to_categorical(y_train,num_classes=10)\n",
        "test_labels = tf.keras.utils.to_categorical(y_test,num_classes=10)\n",
        "print(train_labels[10])"
      ],
      "execution_count": 8,
      "outputs": [
        {
          "output_type": "stream",
          "text": [
            "[0. 0. 0. 1. 0. 0. 0. 0. 0. 0.]\n"
          ],
          "name": "stdout"
        }
      ]
    },
    {
      "cell_type": "code",
      "metadata": {
        "colab": {
          "base_uri": "https://localhost:8080/"
        },
        "id": "CEriEhZm-fy_",
        "outputId": "7c73c749-ca9f-4a7f-f247-19c3e569585f"
      },
      "source": [
        "model = tf.keras.Sequential([\n",
        "                             tf.keras.layers.Conv2D(32,kernel_size=(3,3),activation='relu',input_shape=(28,28,1)),\n",
        "                             tf.keras.layers.MaxPool2D(pool_size=(2,2)),\n",
        "                             tf.keras.layers.Conv2D(64,kernel_size=(3,3),activation='relu'),\n",
        "                             tf.keras.layers.MaxPool2D(pool_size=(2,2)),\n",
        "                             tf.keras.layers.Flatten(),\n",
        "                             tf.keras.layers.Dense(64,activation='relu'),\n",
        "                             tf.keras.layers.Dense(10,activation='softmax')\n",
        "])\n",
        "model.summary()"
      ],
      "execution_count": 18,
      "outputs": [
        {
          "output_type": "stream",
          "text": [
            "Model: \"sequential_2\"\n",
            "_________________________________________________________________\n",
            "Layer (type)                 Output Shape              Param #   \n",
            "=================================================================\n",
            "conv2d_4 (Conv2D)            (None, 26, 26, 32)        320       \n",
            "_________________________________________________________________\n",
            "max_pooling2d_4 (MaxPooling2 (None, 13, 13, 32)        0         \n",
            "_________________________________________________________________\n",
            "conv2d_5 (Conv2D)            (None, 11, 11, 64)        18496     \n",
            "_________________________________________________________________\n",
            "max_pooling2d_5 (MaxPooling2 (None, 5, 5, 64)          0         \n",
            "_________________________________________________________________\n",
            "flatten_2 (Flatten)          (None, 1600)              0         \n",
            "_________________________________________________________________\n",
            "dense_4 (Dense)              (None, 64)                102464    \n",
            "_________________________________________________________________\n",
            "dense_5 (Dense)              (None, 10)                650       \n",
            "=================================================================\n",
            "Total params: 121,930\n",
            "Trainable params: 121,930\n",
            "Non-trainable params: 0\n",
            "_________________________________________________________________\n"
          ],
          "name": "stdout"
        }
      ]
    },
    {
      "cell_type": "code",
      "metadata": {
        "id": "09xY_lZOCA98"
      },
      "source": [
        "model.compile(optimizer=tf.keras.optimizers.Adam(),\n",
        "              loss='categorical_crossentropy',\n",
        "              metrics=['accuracy'])"
      ],
      "execution_count": 19,
      "outputs": []
    },
    {
      "cell_type": "code",
      "metadata": {
        "colab": {
          "base_uri": "https://localhost:8080/"
        },
        "id": "PMnelQ6nBnyn",
        "outputId": "ac598061-09a5-4cbb-db6d-2de4a8464743"
      },
      "source": [
        "history = model.fit(train_images,train_labels,epochs=5,validation_split=0.1)"
      ],
      "execution_count": 20,
      "outputs": [
        {
          "output_type": "stream",
          "text": [
            "Epoch 1/5\n",
            "1688/1688 [==============================] - 51s 30ms/step - loss: 0.1582 - accuracy: 0.9515 - val_loss: 0.0502 - val_accuracy: 0.9870\n",
            "Epoch 2/5\n",
            "1688/1688 [==============================] - 51s 30ms/step - loss: 0.0519 - accuracy: 0.9844 - val_loss: 0.0391 - val_accuracy: 0.9887\n",
            "Epoch 3/5\n",
            "1688/1688 [==============================] - 50s 30ms/step - loss: 0.0345 - accuracy: 0.9890 - val_loss: 0.0389 - val_accuracy: 0.9885\n",
            "Epoch 4/5\n",
            "1688/1688 [==============================] - 50s 30ms/step - loss: 0.0248 - accuracy: 0.9921 - val_loss: 0.0356 - val_accuracy: 0.9895\n",
            "Epoch 5/5\n",
            "1688/1688 [==============================] - 50s 30ms/step - loss: 0.0190 - accuracy: 0.9938 - val_loss: 0.0362 - val_accuracy: 0.9907\n"
          ],
          "name": "stdout"
        }
      ]
    },
    {
      "cell_type": "code",
      "metadata": {
        "colab": {
          "base_uri": "https://localhost:8080/"
        },
        "id": "Z_uMac0sCgC4",
        "outputId": "fc229f22-af67-4916-84c6-1db0c753d274"
      },
      "source": [
        "score = model.evaluate(test_images,test_labels)"
      ],
      "execution_count": 21,
      "outputs": [
        {
          "output_type": "stream",
          "text": [
            "313/313 [==============================] - 3s 9ms/step - loss: 0.0301 - accuracy: 0.9902\n"
          ],
          "name": "stdout"
        }
      ]
    },
    {
      "cell_type": "code",
      "metadata": {
        "colab": {
          "base_uri": "https://localhost:8080/"
        },
        "id": "2xnkiZ6_Es6V",
        "outputId": "7efa3095-964c-40ed-ebd1-d72c3cd96eaf"
      },
      "source": [
        "print(\"The loss is: \",score[0])\n",
        "print(\"Model Accuracy is : \",score[1])"
      ],
      "execution_count": 22,
      "outputs": [
        {
          "output_type": "stream",
          "text": [
            "The loss is:  0.03006354346871376\n",
            "Model Accuracy is :  0.9901999831199646\n"
          ],
          "name": "stdout"
        }
      ]
    },
    {
      "cell_type": "code",
      "metadata": {
        "id": "DyJU_8bbE9Ui"
      },
      "source": [
        ""
      ],
      "execution_count": null,
      "outputs": []
    }
  ]
}