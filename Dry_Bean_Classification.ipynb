{
  "nbformat": 4,
  "nbformat_minor": 0,
  "metadata": {
    "colab": {
      "name": "Dry_Bean_Classification.ipynb",
      "provenance": [],
      "collapsed_sections": [],
      "authorship_tag": "ABX9TyNK8llBd0orswmgynHiGnwv",
      "include_colab_link": true
    },
    "kernelspec": {
      "name": "python3",
      "display_name": "Python 3"
    },
    "language_info": {
      "name": "python"
    }
  },
  "cells": [
    {
      "cell_type": "markdown",
      "metadata": {
        "id": "view-in-github",
        "colab_type": "text"
      },
      "source": [
        "<a href=\"https://colab.research.google.com/github/Shamsh-ms/data_science/blob/main/Dry_Bean_Classification.ipynb\" target=\"_parent\"><img src=\"https://colab.research.google.com/assets/colab-badge.svg\" alt=\"Open In Colab\"/></a>"
      ]
    },
    {
      "cell_type": "code",
      "metadata": {
        "colab": {
          "base_uri": "https://localhost:8080/"
        },
        "id": "NOetKY5uls_t",
        "outputId": "3025a13a-696a-441b-caa1-74e8c9a5a242"
      },
      "source": [
        "from google.colab import drive\n",
        "drive.mount('/content/drive')"
      ],
      "execution_count": null,
      "outputs": [
        {
          "output_type": "stream",
          "text": [
            "Mounted at /content/drive\n"
          ],
          "name": "stdout"
        }
      ]
    },
    {
      "cell_type": "code",
      "metadata": {
        "id": "xJhTxO2EmQ1H"
      },
      "source": [
        "import pandas as pd\n",
        "import numpy as np\n",
        "import matplotlib.pyplot as plt\n",
        "import tensorflow as tf\n"
      ],
      "execution_count": null,
      "outputs": []
    },
    {
      "cell_type": "code",
      "metadata": {
        "colab": {
          "base_uri": "https://localhost:8080/",
          "height": 224
        },
        "id": "LR7jMrU7nDBL",
        "outputId": "34790b74-e24a-4396-c4d4-f772286b9ae6"
      },
      "source": [
        "dataset=pd.read_csv(\"/content/drive/My Drive/datasets/Dry_Bean_Dataset.csv\")\n",
        "dataset.head()"
      ],
      "execution_count": 203,
      "outputs": [
        {
          "output_type": "execute_result",
          "data": {
            "text/html": [
              "<div>\n",
              "<style scoped>\n",
              "    .dataframe tbody tr th:only-of-type {\n",
              "        vertical-align: middle;\n",
              "    }\n",
              "\n",
              "    .dataframe tbody tr th {\n",
              "        vertical-align: top;\n",
              "    }\n",
              "\n",
              "    .dataframe thead th {\n",
              "        text-align: right;\n",
              "    }\n",
              "</style>\n",
              "<table border=\"1\" class=\"dataframe\">\n",
              "  <thead>\n",
              "    <tr style=\"text-align: right;\">\n",
              "      <th></th>\n",
              "      <th>Area</th>\n",
              "      <th>Perimeter</th>\n",
              "      <th>MajorAxisLength</th>\n",
              "      <th>MinorAxisLength</th>\n",
              "      <th>AspectRation</th>\n",
              "      <th>Eccentricity</th>\n",
              "      <th>ConvexArea</th>\n",
              "      <th>EquivDiameter</th>\n",
              "      <th>Extent</th>\n",
              "      <th>Solidity</th>\n",
              "      <th>roundness</th>\n",
              "      <th>Compactness</th>\n",
              "      <th>ShapeFactor1</th>\n",
              "      <th>ShapeFactor2</th>\n",
              "      <th>ShapeFactor3</th>\n",
              "      <th>ShapeFactor4</th>\n",
              "      <th>Class</th>\n",
              "    </tr>\n",
              "  </thead>\n",
              "  <tbody>\n",
              "    <tr>\n",
              "      <th>0</th>\n",
              "      <td>28395</td>\n",
              "      <td>610.291</td>\n",
              "      <td>208.178117</td>\n",
              "      <td>173.888747</td>\n",
              "      <td>1.197191</td>\n",
              "      <td>0.549812</td>\n",
              "      <td>28715</td>\n",
              "      <td>190.141097</td>\n",
              "      <td>0.763923</td>\n",
              "      <td>0.988856</td>\n",
              "      <td>0.958027</td>\n",
              "      <td>0.913358</td>\n",
              "      <td>0.007332</td>\n",
              "      <td>0.003147</td>\n",
              "      <td>0.834222</td>\n",
              "      <td>0.998724</td>\n",
              "      <td>SEKER</td>\n",
              "    </tr>\n",
              "    <tr>\n",
              "      <th>1</th>\n",
              "      <td>28734</td>\n",
              "      <td>638.018</td>\n",
              "      <td>200.524796</td>\n",
              "      <td>182.734419</td>\n",
              "      <td>1.097356</td>\n",
              "      <td>0.411785</td>\n",
              "      <td>29172</td>\n",
              "      <td>191.272751</td>\n",
              "      <td>0.783968</td>\n",
              "      <td>0.984986</td>\n",
              "      <td>0.887034</td>\n",
              "      <td>0.953861</td>\n",
              "      <td>0.006979</td>\n",
              "      <td>0.003564</td>\n",
              "      <td>0.909851</td>\n",
              "      <td>0.998430</td>\n",
              "      <td>SEKER</td>\n",
              "    </tr>\n",
              "    <tr>\n",
              "      <th>2</th>\n",
              "      <td>29380</td>\n",
              "      <td>624.110</td>\n",
              "      <td>212.826130</td>\n",
              "      <td>175.931143</td>\n",
              "      <td>1.209713</td>\n",
              "      <td>0.562727</td>\n",
              "      <td>29690</td>\n",
              "      <td>193.410904</td>\n",
              "      <td>0.778113</td>\n",
              "      <td>0.989559</td>\n",
              "      <td>0.947849</td>\n",
              "      <td>0.908774</td>\n",
              "      <td>0.007244</td>\n",
              "      <td>0.003048</td>\n",
              "      <td>0.825871</td>\n",
              "      <td>0.999066</td>\n",
              "      <td>SEKER</td>\n",
              "    </tr>\n",
              "    <tr>\n",
              "      <th>3</th>\n",
              "      <td>30008</td>\n",
              "      <td>645.884</td>\n",
              "      <td>210.557999</td>\n",
              "      <td>182.516516</td>\n",
              "      <td>1.153638</td>\n",
              "      <td>0.498616</td>\n",
              "      <td>30724</td>\n",
              "      <td>195.467062</td>\n",
              "      <td>0.782681</td>\n",
              "      <td>0.976696</td>\n",
              "      <td>0.903936</td>\n",
              "      <td>0.928329</td>\n",
              "      <td>0.007017</td>\n",
              "      <td>0.003215</td>\n",
              "      <td>0.861794</td>\n",
              "      <td>0.994199</td>\n",
              "      <td>SEKER</td>\n",
              "    </tr>\n",
              "    <tr>\n",
              "      <th>4</th>\n",
              "      <td>30140</td>\n",
              "      <td>620.134</td>\n",
              "      <td>201.847882</td>\n",
              "      <td>190.279279</td>\n",
              "      <td>1.060798</td>\n",
              "      <td>0.333680</td>\n",
              "      <td>30417</td>\n",
              "      <td>195.896503</td>\n",
              "      <td>0.773098</td>\n",
              "      <td>0.990893</td>\n",
              "      <td>0.984877</td>\n",
              "      <td>0.970516</td>\n",
              "      <td>0.006697</td>\n",
              "      <td>0.003665</td>\n",
              "      <td>0.941900</td>\n",
              "      <td>0.999166</td>\n",
              "      <td>SEKER</td>\n",
              "    </tr>\n",
              "  </tbody>\n",
              "</table>\n",
              "</div>"
            ],
            "text/plain": [
              "    Area  Perimeter  MajorAxisLength  ...  ShapeFactor3  ShapeFactor4  Class\n",
              "0  28395    610.291       208.178117  ...      0.834222      0.998724  SEKER\n",
              "1  28734    638.018       200.524796  ...      0.909851      0.998430  SEKER\n",
              "2  29380    624.110       212.826130  ...      0.825871      0.999066  SEKER\n",
              "3  30008    645.884       210.557999  ...      0.861794      0.994199  SEKER\n",
              "4  30140    620.134       201.847882  ...      0.941900      0.999166  SEKER\n",
              "\n",
              "[5 rows x 17 columns]"
            ]
          },
          "metadata": {
            "tags": []
          },
          "execution_count": 203
        }
      ]
    },
    {
      "cell_type": "code",
      "metadata": {
        "colab": {
          "base_uri": "https://localhost:8080/"
        },
        "id": "f3RCtPlznYul",
        "outputId": "6edcd718-ce98-459a-d524-3df44d3adabb"
      },
      "source": [
        "labels=dataset.Class\n",
        "labels.unique()"
      ],
      "execution_count": 204,
      "outputs": [
        {
          "output_type": "execute_result",
          "data": {
            "text/plain": [
              "array(['SEKER', 'BARBUNYA', 'BOMBAY', 'CALI', 'HOROZ', 'SIRA', 'DERMASON'],\n",
              "      dtype=object)"
            ]
          },
          "metadata": {
            "tags": []
          },
          "execution_count": 204
        }
      ]
    },
    {
      "cell_type": "code",
      "metadata": {
        "colab": {
          "base_uri": "https://localhost:8080/"
        },
        "id": "Kievm0g6pX1w",
        "outputId": "b7ce52ca-68b8-4e8b-c120-6a27fd692fe3"
      },
      "source": [
        "dataset.info()"
      ],
      "execution_count": 205,
      "outputs": [
        {
          "output_type": "stream",
          "text": [
            "<class 'pandas.core.frame.DataFrame'>\n",
            "RangeIndex: 13611 entries, 0 to 13610\n",
            "Data columns (total 17 columns):\n",
            " #   Column           Non-Null Count  Dtype  \n",
            "---  ------           --------------  -----  \n",
            " 0   Area             13611 non-null  int64  \n",
            " 1   Perimeter        13611 non-null  float64\n",
            " 2   MajorAxisLength  13611 non-null  float64\n",
            " 3   MinorAxisLength  13611 non-null  float64\n",
            " 4   AspectRation     13611 non-null  float64\n",
            " 5   Eccentricity     13611 non-null  float64\n",
            " 6   ConvexArea       13611 non-null  int64  \n",
            " 7   EquivDiameter    13611 non-null  float64\n",
            " 8   Extent           13611 non-null  float64\n",
            " 9   Solidity         13611 non-null  float64\n",
            " 10  roundness        13611 non-null  float64\n",
            " 11  Compactness      13611 non-null  float64\n",
            " 12  ShapeFactor1     13611 non-null  float64\n",
            " 13  ShapeFactor2     13611 non-null  float64\n",
            " 14  ShapeFactor3     13611 non-null  float64\n",
            " 15  ShapeFactor4     13611 non-null  float64\n",
            " 16  Class            13611 non-null  object \n",
            "dtypes: float64(14), int64(2), object(1)\n",
            "memory usage: 1.8+ MB\n"
          ],
          "name": "stdout"
        }
      ]
    },
    {
      "cell_type": "code",
      "metadata": {
        "colab": {
          "base_uri": "https://localhost:8080/"
        },
        "id": "rHYnlxRIr8AH",
        "outputId": "8381ddb7-961d-428a-e180-0a9d995e61f8"
      },
      "source": [
        "columns= input_features.columns\n",
        "columns"
      ],
      "execution_count": 206,
      "outputs": [
        {
          "output_type": "execute_result",
          "data": {
            "text/plain": [
              "Index(['Area', 'Perimeter', 'MajorAxisLength', 'MinorAxisLength',\n",
              "       'AspectRation', 'Eccentricity', 'ConvexArea', 'EquivDiameter', 'Extent',\n",
              "       'Solidity', 'roundness', 'Compactness', 'ShapeFactor1', 'ShapeFactor2',\n",
              "       'ShapeFactor3', 'ShapeFactor4'],\n",
              "      dtype='object')"
            ]
          },
          "metadata": {
            "tags": []
          },
          "execution_count": 206
        }
      ]
    },
    {
      "cell_type": "code",
      "metadata": {
        "colab": {
          "base_uri": "https://localhost:8080/"
        },
        "id": "5ZmvUXEJwXcV",
        "outputId": "0e4206a6-56b8-4429-96a8-c47a3f8eeed2"
      },
      "source": [
        "input_features = dataset.drop(columns=['Class'],axis=1)\n",
        "print(input_features.head())\n",
        "print(input_features.shape)"
      ],
      "execution_count": 207,
      "outputs": [
        {
          "output_type": "stream",
          "text": [
            "    Area  Perimeter  MajorAxisLength  ...  ShapeFactor2  ShapeFactor3  ShapeFactor4\n",
            "0  28395    610.291       208.178117  ...      0.003147      0.834222      0.998724\n",
            "1  28734    638.018       200.524796  ...      0.003564      0.909851      0.998430\n",
            "2  29380    624.110       212.826130  ...      0.003048      0.825871      0.999066\n",
            "3  30008    645.884       210.557999  ...      0.003215      0.861794      0.994199\n",
            "4  30140    620.134       201.847882  ...      0.003665      0.941900      0.999166\n",
            "\n",
            "[5 rows x 16 columns]\n",
            "(13611, 16)\n"
          ],
          "name": "stdout"
        }
      ]
    },
    {
      "cell_type": "code",
      "metadata": {
        "id": "jftUk1arqqz-"
      },
      "source": [
        "y=[]\n",
        "classes = [i for i,label in enumerate(labels.unique())]\n",
        "classes\n",
        "for i in labels:\n",
        "  if i=='SEKER':\n",
        "    y.append(classes[0])\n",
        "  elif i=='BARBUNYA':\n",
        "    y.append(classes[1])\n",
        "  elif i=='BOMBAY':\n",
        "    y.append(classes[2])\n",
        "  elif i=='CALI':\n",
        "    y.append(classes[3])\n",
        "  elif i=='HOROZ':\n",
        "    y.append(classes[4])\n",
        "  elif i=='SIRA':\n",
        "    y.append(classes[5])\n",
        "  else:\n",
        "    y.append(classes[6])\n",
        "y[-5:-1]\n",
        "y_data = np.array([y])"
      ],
      "execution_count": 208,
      "outputs": []
    },
    {
      "cell_type": "code",
      "metadata": {
        "colab": {
          "base_uri": "https://localhost:8080/"
        },
        "id": "AwN8eS866FD1",
        "outputId": "41c6e567-f709-4b03-ccaa-8df81c6463b6"
      },
      "source": [
        "print(X.shape)\n",
        "print(y_data.reshape(13611,1).shape)\n",
        "y_data.shape"
      ],
      "execution_count": 183,
      "outputs": [
        {
          "output_type": "stream",
          "text": [
            "(13611, 16)\n",
            "(13611, 1)\n"
          ],
          "name": "stdout"
        },
        {
          "output_type": "execute_result",
          "data": {
            "text/plain": [
              "(1, 13611)"
            ]
          },
          "metadata": {
            "tags": []
          },
          "execution_count": 183
        }
      ]
    },
    {
      "cell_type": "code",
      "metadata": {
        "colab": {
          "base_uri": "https://localhost:8080/"
        },
        "id": "U5bvs_a8rv0a",
        "outputId": "32edb3c1-7199-4954-c21b-cb45bb5e6b79"
      },
      "source": [
        "from sklearn.model_selection import train_test_split\n",
        "X_train, X_test, y_train, y_test = train_test_split(X, y_data.reshape(13611,1), test_size=0.33, random_state=42)\n",
        "print(X_train.shape,y_train.shape)\n",
        "print(X_test.shape,y_test.shape)"
      ],
      "execution_count": 215,
      "outputs": [
        {
          "output_type": "stream",
          "text": [
            "(9119, 16) (9119, 1)\n",
            "(4492, 16) (4492, 1)\n"
          ],
          "name": "stdout"
        }
      ]
    },
    {
      "cell_type": "code",
      "metadata": {
        "id": "KbH0LvLtcank"
      },
      "source": [
        "from sklearn.preprocessing import StandardScaler\n",
        "\n",
        "sc = StandardScaler()\n",
        "X_train = sc.fit_transform(X_train)\n",
        "X_test = sc.transform(X_test)"
      ],
      "execution_count": 216,
      "outputs": []
    },
    {
      "cell_type": "code",
      "metadata": {
        "id": "XOWioyMDJpDp"
      },
      "source": [
        "X_train.shape[1]\n",
        "loss_fn = tf.keras.losses.SparseCategoricalCrossentropy(from_logits=True)\n",
        "callback = tf.keras.callbacks.EarlyStopping(monitor='loss', patience=6, mode='max')"
      ],
      "execution_count": 217,
      "outputs": []
    },
    {
      "cell_type": "code",
      "metadata": {
        "id": "HLLNbdK35n_4"
      },
      "source": [
        "model = tf.keras.Sequential([\n",
        "                             tf.keras.layers.Flatten(input_shape=(X_train.shape[1],)),\n",
        "                             tf.keras.layers.Dense(20,tf.nn.relu),\n",
        "                             tf.keras.layers.Dense(12,tf.nn.relu),\n",
        "                             tf.keras.layers.Dense(7,tf.nn.softmax)\n",
        "])"
      ],
      "execution_count": 218,
      "outputs": []
    },
    {
      "cell_type": "code",
      "metadata": {
        "colab": {
          "base_uri": "https://localhost:8080/"
        },
        "id": "_xDz54OCJbgc",
        "outputId": "ce9d2e0b-9cc2-4a4b-8596-86b06e94b389"
      },
      "source": [
        "model.compile(\n",
        "    optimizer = tf.keras.optimizers.Adam(learning_rate=0.001),\n",
        "    loss=loss_fn,\n",
        "    metrics=['accuracy']\n",
        ")\n",
        "model.summary()"
      ],
      "execution_count": 219,
      "outputs": [
        {
          "output_type": "stream",
          "text": [
            "Model: \"sequential_39\"\n",
            "_________________________________________________________________\n",
            "Layer (type)                 Output Shape              Param #   \n",
            "=================================================================\n",
            "flatten_40 (Flatten)         (None, 16)                0         \n",
            "_________________________________________________________________\n",
            "dense_122 (Dense)            (None, 20)                340       \n",
            "_________________________________________________________________\n",
            "dense_123 (Dense)            (None, 12)                252       \n",
            "_________________________________________________________________\n",
            "dense_124 (Dense)            (None, 7)                 91        \n",
            "=================================================================\n",
            "Total params: 683\n",
            "Trainable params: 683\n",
            "Non-trainable params: 0\n",
            "_________________________________________________________________\n"
          ],
          "name": "stdout"
        }
      ]
    },
    {
      "cell_type": "code",
      "metadata": {
        "colab": {
          "base_uri": "https://localhost:8080/"
        },
        "id": "uK1VgdOsLyET",
        "outputId": "93ff5131-edcb-4f6c-edb8-7d66e034c306"
      },
      "source": [
        "history = model.fit(X_train, y_train, epochs=100)"
      ],
      "execution_count": 220,
      "outputs": [
        {
          "output_type": "stream",
          "text": [
            "Epoch 1/100\n",
            "285/285 [==============================] - 1s 1ms/step - loss: 1.6253 - accuracy: 0.6122\n",
            "Epoch 2/100\n",
            "285/285 [==============================] - 0s 1ms/step - loss: 1.3609 - accuracy: 0.8532\n",
            "Epoch 3/100\n",
            "285/285 [==============================] - 0s 1ms/step - loss: 1.2777 - accuracy: 0.9128\n",
            "Epoch 4/100\n",
            "285/285 [==============================] - 0s 1ms/step - loss: 1.2622 - accuracy: 0.9175\n",
            "Epoch 5/100\n",
            "285/285 [==============================] - 0s 1ms/step - loss: 1.2553 - accuracy: 0.9196\n",
            "Epoch 6/100\n",
            "285/285 [==============================] - 0s 1ms/step - loss: 1.2511 - accuracy: 0.9233\n",
            "Epoch 7/100\n",
            "285/285 [==============================] - 0s 1ms/step - loss: 1.2489 - accuracy: 0.9229\n",
            "Epoch 8/100\n",
            "285/285 [==============================] - 0s 1ms/step - loss: 1.2475 - accuracy: 0.9219\n",
            "Epoch 9/100\n",
            "285/285 [==============================] - 0s 1ms/step - loss: 1.2455 - accuracy: 0.9258\n",
            "Epoch 10/100\n",
            "285/285 [==============================] - 0s 1ms/step - loss: 1.2447 - accuracy: 0.9240\n",
            "Epoch 11/100\n",
            "285/285 [==============================] - 0s 1ms/step - loss: 1.2429 - accuracy: 0.9260\n",
            "Epoch 12/100\n",
            "285/285 [==============================] - 0s 1ms/step - loss: 1.2419 - accuracy: 0.9260\n",
            "Epoch 13/100\n",
            "285/285 [==============================] - 0s 1ms/step - loss: 1.2412 - accuracy: 0.9287\n",
            "Epoch 14/100\n",
            "285/285 [==============================] - 0s 1ms/step - loss: 1.2406 - accuracy: 0.9276\n",
            "Epoch 15/100\n",
            "285/285 [==============================] - 0s 1ms/step - loss: 1.2402 - accuracy: 0.9281\n",
            "Epoch 16/100\n",
            "285/285 [==============================] - 0s 1ms/step - loss: 1.2390 - accuracy: 0.9295\n",
            "Epoch 17/100\n",
            "285/285 [==============================] - 0s 2ms/step - loss: 1.2384 - accuracy: 0.9298\n",
            "Epoch 18/100\n",
            "285/285 [==============================] - 0s 1ms/step - loss: 1.2386 - accuracy: 0.9292\n",
            "Epoch 19/100\n",
            "285/285 [==============================] - 0s 1ms/step - loss: 1.2381 - accuracy: 0.9303\n",
            "Epoch 20/100\n",
            "285/285 [==============================] - 0s 1ms/step - loss: 1.2376 - accuracy: 0.9297\n",
            "Epoch 21/100\n",
            "285/285 [==============================] - 0s 1ms/step - loss: 1.2377 - accuracy: 0.9292\n",
            "Epoch 22/100\n",
            "285/285 [==============================] - 0s 1ms/step - loss: 1.2370 - accuracy: 0.9306\n",
            "Epoch 23/100\n",
            "285/285 [==============================] - 0s 1ms/step - loss: 1.2368 - accuracy: 0.9292\n",
            "Epoch 24/100\n",
            "285/285 [==============================] - 0s 1ms/step - loss: 1.2361 - accuracy: 0.9307\n",
            "Epoch 25/100\n",
            "285/285 [==============================] - 0s 1ms/step - loss: 1.2367 - accuracy: 0.9314\n",
            "Epoch 26/100\n",
            "285/285 [==============================] - 0s 1ms/step - loss: 1.2363 - accuracy: 0.9294\n",
            "Epoch 27/100\n",
            "285/285 [==============================] - 0s 1ms/step - loss: 1.2361 - accuracy: 0.9300\n",
            "Epoch 28/100\n",
            "285/285 [==============================] - 0s 1ms/step - loss: 1.2354 - accuracy: 0.9309\n",
            "Epoch 29/100\n",
            "285/285 [==============================] - 0s 1ms/step - loss: 1.2356 - accuracy: 0.9309\n",
            "Epoch 30/100\n",
            "285/285 [==============================] - 0s 1ms/step - loss: 1.2356 - accuracy: 0.9312\n",
            "Epoch 31/100\n",
            "285/285 [==============================] - 0s 1ms/step - loss: 1.2355 - accuracy: 0.9314\n",
            "Epoch 32/100\n",
            "285/285 [==============================] - 0s 1ms/step - loss: 1.2343 - accuracy: 0.9329\n",
            "Epoch 33/100\n",
            "285/285 [==============================] - 0s 1ms/step - loss: 1.2345 - accuracy: 0.9329\n",
            "Epoch 34/100\n",
            "285/285 [==============================] - 0s 1ms/step - loss: 1.2343 - accuracy: 0.9319\n",
            "Epoch 35/100\n",
            "285/285 [==============================] - 0s 1ms/step - loss: 1.2345 - accuracy: 0.9330\n",
            "Epoch 36/100\n",
            "285/285 [==============================] - 0s 1ms/step - loss: 1.2344 - accuracy: 0.9318\n",
            "Epoch 37/100\n",
            "285/285 [==============================] - 0s 1ms/step - loss: 1.2341 - accuracy: 0.9340\n",
            "Epoch 38/100\n",
            "285/285 [==============================] - 0s 1ms/step - loss: 1.2343 - accuracy: 0.9322\n",
            "Epoch 39/100\n",
            "285/285 [==============================] - 0s 1ms/step - loss: 1.2336 - accuracy: 0.9321\n",
            "Epoch 40/100\n",
            "285/285 [==============================] - 0s 1ms/step - loss: 1.2332 - accuracy: 0.9328\n",
            "Epoch 41/100\n",
            "285/285 [==============================] - 0s 1ms/step - loss: 1.2326 - accuracy: 0.9337\n",
            "Epoch 42/100\n",
            "285/285 [==============================] - 0s 1ms/step - loss: 1.2333 - accuracy: 0.9343\n",
            "Epoch 43/100\n",
            "285/285 [==============================] - 0s 1ms/step - loss: 1.2331 - accuracy: 0.9333\n",
            "Epoch 44/100\n",
            "285/285 [==============================] - 0s 1ms/step - loss: 1.2329 - accuracy: 0.9331\n",
            "Epoch 45/100\n",
            "285/285 [==============================] - 0s 1ms/step - loss: 1.2336 - accuracy: 0.9324\n",
            "Epoch 46/100\n",
            "285/285 [==============================] - 0s 1ms/step - loss: 1.2325 - accuracy: 0.9341\n",
            "Epoch 47/100\n",
            "285/285 [==============================] - 0s 1ms/step - loss: 1.2328 - accuracy: 0.9329\n",
            "Epoch 48/100\n",
            "285/285 [==============================] - 0s 1ms/step - loss: 1.2327 - accuracy: 0.9334\n",
            "Epoch 49/100\n",
            "285/285 [==============================] - 0s 1ms/step - loss: 1.2324 - accuracy: 0.9343\n",
            "Epoch 50/100\n",
            "285/285 [==============================] - 0s 1ms/step - loss: 1.2321 - accuracy: 0.9353\n",
            "Epoch 51/100\n",
            "285/285 [==============================] - 0s 1ms/step - loss: 1.2319 - accuracy: 0.9339\n",
            "Epoch 52/100\n",
            "285/285 [==============================] - 0s 1ms/step - loss: 1.2318 - accuracy: 0.9344\n",
            "Epoch 53/100\n",
            "285/285 [==============================] - 0s 1ms/step - loss: 1.2319 - accuracy: 0.9344\n",
            "Epoch 54/100\n",
            "285/285 [==============================] - 0s 1ms/step - loss: 1.2311 - accuracy: 0.9354\n",
            "Epoch 55/100\n",
            "285/285 [==============================] - 0s 1ms/step - loss: 1.2315 - accuracy: 0.9353\n",
            "Epoch 56/100\n",
            "285/285 [==============================] - 0s 1ms/step - loss: 1.2313 - accuracy: 0.9352\n",
            "Epoch 57/100\n",
            "285/285 [==============================] - 0s 1ms/step - loss: 1.2312 - accuracy: 0.9358\n",
            "Epoch 58/100\n",
            "285/285 [==============================] - 0s 1ms/step - loss: 1.2319 - accuracy: 0.9338\n",
            "Epoch 59/100\n",
            "285/285 [==============================] - 0s 1ms/step - loss: 1.2311 - accuracy: 0.9354\n",
            "Epoch 60/100\n",
            "285/285 [==============================] - 0s 1ms/step - loss: 1.2312 - accuracy: 0.9357\n",
            "Epoch 61/100\n",
            "285/285 [==============================] - 0s 1ms/step - loss: 1.2308 - accuracy: 0.9367\n",
            "Epoch 62/100\n",
            "285/285 [==============================] - 0s 1ms/step - loss: 1.2311 - accuracy: 0.9353\n",
            "Epoch 63/100\n",
            "285/285 [==============================] - 0s 1ms/step - loss: 1.2319 - accuracy: 0.9345\n",
            "Epoch 64/100\n",
            "285/285 [==============================] - 0s 1ms/step - loss: 1.2308 - accuracy: 0.9357\n",
            "Epoch 65/100\n",
            "285/285 [==============================] - 0s 1ms/step - loss: 1.2306 - accuracy: 0.9354\n",
            "Epoch 66/100\n",
            "285/285 [==============================] - 0s 1ms/step - loss: 1.2310 - accuracy: 0.9349\n",
            "Epoch 67/100\n",
            "285/285 [==============================] - 0s 1ms/step - loss: 1.2308 - accuracy: 0.9362\n",
            "Epoch 68/100\n",
            "285/285 [==============================] - 0s 1ms/step - loss: 1.2310 - accuracy: 0.9360\n",
            "Epoch 69/100\n",
            "285/285 [==============================] - 0s 1ms/step - loss: 1.2299 - accuracy: 0.9364\n",
            "Epoch 70/100\n",
            "285/285 [==============================] - 0s 1ms/step - loss: 1.2303 - accuracy: 0.9358\n",
            "Epoch 71/100\n",
            "285/285 [==============================] - 0s 1ms/step - loss: 1.2300 - accuracy: 0.9369\n",
            "Epoch 72/100\n",
            "285/285 [==============================] - 0s 1ms/step - loss: 1.2302 - accuracy: 0.9357\n",
            "Epoch 73/100\n",
            "285/285 [==============================] - 0s 1ms/step - loss: 1.2298 - accuracy: 0.9372\n",
            "Epoch 74/100\n",
            "285/285 [==============================] - 0s 1ms/step - loss: 1.2303 - accuracy: 0.9362\n",
            "Epoch 75/100\n",
            "285/285 [==============================] - 0s 1ms/step - loss: 1.2302 - accuracy: 0.9363\n",
            "Epoch 76/100\n",
            "285/285 [==============================] - 0s 1ms/step - loss: 1.2299 - accuracy: 0.9357\n",
            "Epoch 77/100\n",
            "285/285 [==============================] - 0s 1ms/step - loss: 1.2303 - accuracy: 0.9367\n",
            "Epoch 78/100\n",
            "285/285 [==============================] - 0s 1ms/step - loss: 1.2296 - accuracy: 0.9371\n",
            "Epoch 79/100\n",
            "285/285 [==============================] - 0s 1ms/step - loss: 1.2300 - accuracy: 0.9358\n",
            "Epoch 80/100\n",
            "285/285 [==============================] - 0s 1ms/step - loss: 1.2297 - accuracy: 0.9373\n",
            "Epoch 81/100\n",
            "285/285 [==============================] - 0s 1ms/step - loss: 1.2291 - accuracy: 0.9378\n",
            "Epoch 82/100\n",
            "285/285 [==============================] - 0s 1ms/step - loss: 1.2295 - accuracy: 0.9372\n",
            "Epoch 83/100\n",
            "285/285 [==============================] - 0s 1ms/step - loss: 1.2297 - accuracy: 0.9364\n",
            "Epoch 84/100\n",
            "285/285 [==============================] - 0s 1ms/step - loss: 1.2290 - accuracy: 0.9376\n",
            "Epoch 85/100\n",
            "285/285 [==============================] - 0s 1ms/step - loss: 1.2289 - accuracy: 0.9384\n",
            "Epoch 86/100\n",
            "285/285 [==============================] - 0s 1ms/step - loss: 1.2291 - accuracy: 0.9371\n",
            "Epoch 87/100\n",
            "285/285 [==============================] - 0s 1ms/step - loss: 1.2291 - accuracy: 0.9379\n",
            "Epoch 88/100\n",
            "285/285 [==============================] - 0s 1ms/step - loss: 1.2295 - accuracy: 0.9368\n",
            "Epoch 89/100\n",
            "285/285 [==============================] - 0s 1ms/step - loss: 1.2289 - accuracy: 0.9383\n",
            "Epoch 90/100\n",
            "285/285 [==============================] - 0s 1ms/step - loss: 1.2290 - accuracy: 0.9367\n",
            "Epoch 91/100\n",
            "285/285 [==============================] - 0s 1ms/step - loss: 1.2293 - accuracy: 0.9372\n",
            "Epoch 92/100\n",
            "285/285 [==============================] - 0s 1ms/step - loss: 1.2279 - accuracy: 0.9392\n",
            "Epoch 93/100\n",
            "285/285 [==============================] - 0s 1ms/step - loss: 1.2286 - accuracy: 0.9382\n",
            "Epoch 94/100\n",
            "285/285 [==============================] - 0s 1ms/step - loss: 1.2291 - accuracy: 0.9368\n",
            "Epoch 95/100\n",
            "285/285 [==============================] - 0s 1ms/step - loss: 1.2289 - accuracy: 0.9374\n",
            "Epoch 96/100\n",
            "285/285 [==============================] - 0s 1ms/step - loss: 1.2285 - accuracy: 0.9373\n",
            "Epoch 97/100\n",
            "285/285 [==============================] - 0s 1ms/step - loss: 1.2281 - accuracy: 0.9383\n",
            "Epoch 98/100\n",
            "285/285 [==============================] - 0s 1ms/step - loss: 1.2278 - accuracy: 0.9389\n",
            "Epoch 99/100\n",
            "285/285 [==============================] - 0s 1ms/step - loss: 1.2283 - accuracy: 0.9375\n",
            "Epoch 100/100\n",
            "285/285 [==============================] - 0s 1ms/step - loss: 1.2282 - accuracy: 0.9391\n"
          ],
          "name": "stdout"
        }
      ]
    },
    {
      "cell_type": "code",
      "metadata": {
        "id": "CHL0K-eKMk5y",
        "colab": {
          "base_uri": "https://localhost:8080/"
        },
        "outputId": "c6a4e078-22e0-4b45-8a23-7c8c80b71f1f"
      },
      "source": [
        "score = model.evaluate(X_test, y_test)\n",
        "print(\"Test Accuracy is: \",score[1])"
      ],
      "execution_count": 221,
      "outputs": [
        {
          "output_type": "stream",
          "text": [
            "141/141 [==============================] - 0s 1ms/step - loss: 1.2372 - accuracy: 0.9294\n",
            "Test Accuracy is:  0.9294301271438599\n"
          ],
          "name": "stdout"
        }
      ]
    },
    {
      "cell_type": "code",
      "metadata": {
        "colab": {
          "base_uri": "https://localhost:8080/"
        },
        "id": "JJ-LbE22fMs7",
        "outputId": "0877fdcc-9433-4cf6-c643-2546119a63f0"
      },
      "source": [
        "X_test[0].shape\n",
        "print(X_test[0].shape())"
      ],
      "execution_count": 226,
      "outputs": [
        {
          "output_type": "stream",
          "text": [
            "[-0.36336434 -0.5297599  -0.696728    0.11519855 -1.3312976  -1.5965698\n",
            " -0.37067923 -0.3507234   0.44163448  1.0594105   1.6016086   1.4988444\n",
            " -0.3741109   1.1517485   1.5426658   0.9807544 ]\n"
          ],
          "name": "stdout"
        }
      ]
    },
    {
      "cell_type": "code",
      "metadata": {
        "colab": {
          "base_uri": "https://localhost:8080/"
        },
        "id": "lXVLwFjUewiL",
        "outputId": "2a5c0045-e50d-49c4-fb8a-29f48f923f77"
      },
      "source": [
        "pred = model.predict(X_test)\n",
        "pred.shape"
      ],
      "execution_count": 228,
      "outputs": [
        {
          "output_type": "execute_result",
          "data": {
            "text/plain": [
              "(4492, 7)"
            ]
          },
          "metadata": {
            "tags": []
          },
          "execution_count": 228
        }
      ]
    },
    {
      "cell_type": "code",
      "metadata": {
        "colab": {
          "base_uri": "https://localhost:8080/"
        },
        "id": "QS9kiZkTe9s3",
        "outputId": "da1e909c-ec47-45b4-b12f-4938782ff39c"
      },
      "source": [
        "pred[4491]"
      ],
      "execution_count": 233,
      "outputs": [
        {
          "output_type": "execute_result",
          "data": {
            "text/plain": [
              "array([1.2438816e-34, 8.4241023e-28, 8.8638736e-30, 7.0059030e-14,\n",
              "       1.0000000e+00, 5.1024290e-19, 8.2529839e-26], dtype=float32)"
            ]
          },
          "metadata": {
            "tags": []
          },
          "execution_count": 233
        }
      ]
    },
    {
      "cell_type": "code",
      "metadata": {
        "colab": {
          "base_uri": "https://localhost:8080/"
        },
        "id": "A9cugIoKgkLi",
        "outputId": "ecd708db-7732-4b8e-df07-c77b156b1aea"
      },
      "source": [
        "np.argmax(pred[4491])"
      ],
      "execution_count": 234,
      "outputs": [
        {
          "output_type": "execute_result",
          "data": {
            "text/plain": [
              "4"
            ]
          },
          "metadata": {
            "tags": []
          },
          "execution_count": 234
        }
      ]
    },
    {
      "cell_type": "code",
      "metadata": {
        "colab": {
          "base_uri": "https://localhost:8080/"
        },
        "id": "2hHV2U_hgoud",
        "outputId": "ae298af6-dcfc-4132-93b7-51b945b9fa64"
      },
      "source": [
        "y_test[4491]"
      ],
      "execution_count": 235,
      "outputs": [
        {
          "output_type": "execute_result",
          "data": {
            "text/plain": [
              "array([4])"
            ]
          },
          "metadata": {
            "tags": []
          },
          "execution_count": 235
        }
      ]
    },
    {
      "cell_type": "code",
      "metadata": {
        "colab": {
          "base_uri": "https://localhost:8080/"
        },
        "id": "oM9UBpTqh2Mq",
        "outputId": "f18e759d-d906-4fc3-bfae-faace669fd2c"
      },
      "source": [
        "history.history.keys()"
      ],
      "execution_count": 237,
      "outputs": [
        {
          "output_type": "execute_result",
          "data": {
            "text/plain": [
              "dict_keys(['loss', 'accuracy'])"
            ]
          },
          "metadata": {
            "tags": []
          },
          "execution_count": 237
        }
      ]
    },
    {
      "cell_type": "code",
      "metadata": {
        "colab": {
          "base_uri": "https://localhost:8080/",
          "height": 258
        },
        "id": "UQYm8O_7gsdA",
        "outputId": "ad01b4c4-c26a-49a8-98a8-5529907122ce"
      },
      "source": [
        "plt.figure(figsize=(6,3))\n",
        "plt.subplot(1,2,1)\n",
        "plt.plot(history.history['accuracy'])\n",
        "plt.title('model accuracy')\n",
        "plt.ylabel('accuracy')\n",
        "plt.xlabel('epoch')\n",
        "plt.legend(['accuracy'], loc='upper left')\n",
        "plt.subplot(1,2,2)\n",
        "plt.plot(history.history['loss'])\n",
        "plt.title('model loss')\n",
        "plt.ylabel('loss')\n",
        "plt.xlabel('epoch')\n",
        "plt.legend(['loss'], loc='upper left')"
      ],
      "execution_count": 242,
      "outputs": [
        {
          "output_type": "execute_result",
          "data": {
            "text/plain": [
              "<matplotlib.legend.Legend at 0x7ff124072c10>"
            ]
          },
          "metadata": {
            "tags": []
          },
          "execution_count": 242
        },
        {
          "output_type": "display_data",
          "data": {
            "image/png": "[encoded data removed]",
            "text/plain": [
              "<Figure size 432x216 with 2 Axes>"
            ]
          },
          "metadata": {
            "tags": [],
            "needs_background": "light"
          }
        }
      ]
    },
    {
      "cell_type": "code",
      "metadata": {
        "id": "5k3LdUTwhvVK"
      },
      "source": [
        ""
      ],
      "execution_count": null,
      "outputs": []
    }
  ]
}